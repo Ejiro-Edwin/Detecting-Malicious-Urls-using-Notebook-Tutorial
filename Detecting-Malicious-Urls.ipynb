{
    "nbformat_minor": 2, 
    "cells": [
        {
            "source": "import numpy as np\nimport pandas as pd\nimport random\n\n#machine learning packages \nfrom sklearn.feature_extraction.text import TfidfVectorizer\nfrom sklearn.feature_extraction.text import CountVectorizer\nfrom sklearn.linear_model import LogisticRegression\nfrom sklearn.model_selection import train_test_split", 
            "cell_type": "code", 
            "metadata": {}, 
            "outputs": [], 
            "execution_count": 35
        }, 
        {
            "source": "urls_data = pd.read_csv(\"data.csv\")", 
            "cell_type": "code", 
            "metadata": {}, 
            "outputs": [], 
            "execution_count": 36
        }, 
        {
            "source": "urls_data.isnull() #to check for missing data", 
            "cell_type": "code", 
            "metadata": {}, 
            "outputs": [
                {
                    "execution_count": 37, 
                    "output_type": "execute_result", 
                    "data": {
                        "text/plain": "          url  label\n0       False  False\n1       False  False\n2       False  False\n3       False  False\n4       False  False\n5       False  False\n6       False  False\n7       False  False\n8       False  False\n9       False  False\n10      False  False\n11      False  False\n12      False  False\n13      False  False\n14      False  False\n15      False  False\n16      False  False\n17      False  False\n18      False  False\n19      False  False\n20      False  False\n21      False  False\n22      False  False\n23      False  False\n24      False  False\n25      False  False\n26      False  False\n27      False  False\n28      False  False\n29      False  False\n...       ...    ...\n420434  False  False\n420435  False  False\n420436  False  False\n420437  False  False\n420438  False  False\n420439  False  False\n420440  False  False\n420441  False  False\n420442  False  False\n420443  False  False\n420444  False  False\n420445  False  False\n420446  False  False\n420447  False  False\n420448  False  False\n420449  False  False\n420450  False  False\n420451  False  False\n420452  False  False\n420453  False  False\n420454  False  False\n420455  False  False\n420456  False  False\n420457  False  False\n420458  False  False\n420459  False  False\n420460  False  False\n420461  False  False\n420462  False  False\n420463  False  False\n\n[420464 rows x 2 columns]", 
                        "text/html": "<div>\n<style scoped>\n    .dataframe tbody tr th:only-of-type {\n        vertical-align: middle;\n    }\n\n    .dataframe tbody tr th {\n        vertical-align: top;\n    }\n\n    .dataframe thead th {\n        text-align: right;\n    }\n</style>\n<table border=\"1\" class=\"dataframe\">\n  <thead>\n    <tr style=\"text-align: right;\">\n      <th></th>\n      <th>url</th>\n      <th>label</th>\n    </tr>\n  </thead>\n  <tbody>\n    <tr>\n      <th>0</th>\n      <td>False</td>\n      <td>False</td>\n    </tr>\n    <tr>\n      <th>1</th>\n      <td>False</td>\n      <td>False</td>\n    </tr>\n    <tr>\n      <th>2</th>\n      <td>False</td>\n      <td>False</td>\n    </tr>\n    <tr>\n      <th>3</th>\n      <td>False</td>\n      <td>False</td>\n    </tr>\n    <tr>\n      <th>4</th>\n      <td>False</td>\n      <td>False</td>\n    </tr>\n    <tr>\n      <th>5</th>\n      <td>False</td>\n      <td>False</td>\n    </tr>\n    <tr>\n      <th>6</th>\n      <td>False</td>\n      <td>False</td>\n    </tr>\n    <tr>\n      <th>7</th>\n      <td>False</td>\n      <td>False</td>\n    </tr>\n    <tr>\n      <th>8</th>\n      <td>False</td>\n      <td>False</td>\n    </tr>\n    <tr>\n      <th>9</th>\n      <td>False</td>\n      <td>False</td>\n    </tr>\n    <tr>\n      <th>10</th>\n      <td>False</td>\n      <td>False</td>\n    </tr>\n    <tr>\n      <th>11</th>\n      <td>False</td>\n      <td>False</td>\n    </tr>\n    <tr>\n      <th>12</th>\n      <td>False</td>\n      <td>False</td>\n    </tr>\n    <tr>\n      <th>13</th>\n      <td>False</td>\n      <td>False</td>\n    </tr>\n    <tr>\n      <th>14</th>\n      <td>False</td>\n      <td>False</td>\n    </tr>\n    <tr>\n      <th>15</th>\n      <td>False</td>\n      <td>False</td>\n    </tr>\n    <tr>\n      <th>16</th>\n      <td>False</td>\n      <td>False</td>\n    </tr>\n    <tr>\n      <th>17</th>\n      <td>False</td>\n      <td>False</td>\n    </tr>\n    <tr>\n      <th>18</th>\n      <td>False</td>\n      <td>False</td>\n    </tr>\n    <tr>\n      <th>19</th>\n      <td>False</td>\n      <td>False</td>\n    </tr>\n    <tr>\n      <th>20</th>\n      <td>False</td>\n      <td>False</td>\n    </tr>\n    <tr>\n      <th>21</th>\n      <td>False</td>\n      <td>False</td>\n    </tr>\n    <tr>\n      <th>22</th>\n      <td>False</td>\n      <td>False</td>\n    </tr>\n    <tr>\n      <th>23</th>\n      <td>False</td>\n      <td>False</td>\n    </tr>\n    <tr>\n      <th>24</th>\n      <td>False</td>\n      <td>False</td>\n    </tr>\n    <tr>\n      <th>25</th>\n      <td>False</td>\n      <td>False</td>\n    </tr>\n    <tr>\n      <th>26</th>\n      <td>False</td>\n      <td>False</td>\n    </tr>\n    <tr>\n      <th>27</th>\n      <td>False</td>\n      <td>False</td>\n    </tr>\n    <tr>\n      <th>28</th>\n      <td>False</td>\n      <td>False</td>\n    </tr>\n    <tr>\n      <th>29</th>\n      <td>False</td>\n      <td>False</td>\n    </tr>\n    <tr>\n      <th>...</th>\n      <td>...</td>\n      <td>...</td>\n    </tr>\n    <tr>\n      <th>420434</th>\n      <td>False</td>\n      <td>False</td>\n    </tr>\n    <tr>\n      <th>420435</th>\n      <td>False</td>\n      <td>False</td>\n    </tr>\n    <tr>\n      <th>420436</th>\n      <td>False</td>\n      <td>False</td>\n    </tr>\n    <tr>\n      <th>420437</th>\n      <td>False</td>\n      <td>False</td>\n    </tr>\n    <tr>\n      <th>420438</th>\n      <td>False</td>\n      <td>False</td>\n    </tr>\n    <tr>\n      <th>420439</th>\n      <td>False</td>\n      <td>False</td>\n    </tr>\n    <tr>\n      <th>420440</th>\n      <td>False</td>\n      <td>False</td>\n    </tr>\n    <tr>\n      <th>420441</th>\n      <td>False</td>\n      <td>False</td>\n    </tr>\n    <tr>\n      <th>420442</th>\n      <td>False</td>\n      <td>False</td>\n    </tr>\n    <tr>\n      <th>420443</th>\n      <td>False</td>\n      <td>False</td>\n    </tr>\n    <tr>\n      <th>420444</th>\n      <td>False</td>\n      <td>False</td>\n    </tr>\n    <tr>\n      <th>420445</th>\n      <td>False</td>\n      <td>False</td>\n    </tr>\n    <tr>\n      <th>420446</th>\n      <td>False</td>\n      <td>False</td>\n    </tr>\n    <tr>\n      <th>420447</th>\n      <td>False</td>\n      <td>False</td>\n    </tr>\n    <tr>\n      <th>420448</th>\n      <td>False</td>\n      <td>False</td>\n    </tr>\n    <tr>\n      <th>420449</th>\n      <td>False</td>\n      <td>False</td>\n    </tr>\n    <tr>\n      <th>420450</th>\n      <td>False</td>\n      <td>False</td>\n    </tr>\n    <tr>\n      <th>420451</th>\n      <td>False</td>\n      <td>False</td>\n    </tr>\n    <tr>\n      <th>420452</th>\n      <td>False</td>\n      <td>False</td>\n    </tr>\n    <tr>\n      <th>420453</th>\n      <td>False</td>\n      <td>False</td>\n    </tr>\n    <tr>\n      <th>420454</th>\n      <td>False</td>\n      <td>False</td>\n    </tr>\n    <tr>\n      <th>420455</th>\n      <td>False</td>\n      <td>False</td>\n    </tr>\n    <tr>\n      <th>420456</th>\n      <td>False</td>\n      <td>False</td>\n    </tr>\n    <tr>\n      <th>420457</th>\n      <td>False</td>\n      <td>False</td>\n    </tr>\n    <tr>\n      <th>420458</th>\n      <td>False</td>\n      <td>False</td>\n    </tr>\n    <tr>\n      <th>420459</th>\n      <td>False</td>\n      <td>False</td>\n    </tr>\n    <tr>\n      <th>420460</th>\n      <td>False</td>\n      <td>False</td>\n    </tr>\n    <tr>\n      <th>420461</th>\n      <td>False</td>\n      <td>False</td>\n    </tr>\n    <tr>\n      <th>420462</th>\n      <td>False</td>\n      <td>False</td>\n    </tr>\n    <tr>\n      <th>420463</th>\n      <td>False</td>\n      <td>False</td>\n    </tr>\n  </tbody>\n</table>\n<p>420464 rows \u00d7 2 columns</p>\n</div>"
                    }, 
                    "metadata": {}
                }
            ], 
            "execution_count": 37
        }, 
        {
            "source": "type(urls_data)", 
            "cell_type": "code", 
            "metadata": {}, 
            "outputs": [
                {
                    "execution_count": 38, 
                    "output_type": "execute_result", 
                    "data": {
                        "text/plain": "pandas.core.frame.DataFrame"
                    }, 
                    "metadata": {}
                }
            ], 
            "execution_count": 38
        }, 
        {
            "source": "urls_data", 
            "cell_type": "code", 
            "metadata": {}, 
            "outputs": [
                {
                    "execution_count": 39, 
                    "output_type": "execute_result", 
                    "data": {
                        "text/plain": "                                                      url label\n0                                  diaryofagameaddict.com   bad\n1                                        espdesign.com.au   bad\n2                                      iamagameaddict.com   bad\n3                                           kalantzis.net   bad\n4                                   slightlyoffcenter.net   bad\n5                                        toddscarwash.com   bad\n6                                          tubemoviez.com   bad\n7                                                  ipl.hk   bad\n8             crackspider.us/toolbar/install.php?pack=exe   bad\n9                                         pos-kupang.com/   bad\n10                                             rupor.info   bad\n11      svision-online.de/mgfi/administrator/component...   bad\n12      officeon.ch.ma/office.js?google_ad_format=728x...   bad\n13                                            sn-gzzx.com   bad\n14                          sunlux.net/company/about.html   bad\n15                                            outporn.com   bad\n16                                 timothycopus.aimoo.com   bad\n17                                        xindalawyer.com   bad\n18                       freeserials.spb.ru/key/68703.htm   bad\n19                               deletespyware-adware.com   bad\n20                        orbowlada.strefa.pl/text396.htm   bad\n21                                          ruiyangcn.com   bad\n22                                               zkic.com   bad\n23      adserving.favorit-network.com/eas?camp=19320;c...   bad\n24                                       cracks.vg/d1.php   bad\n25                                    juicypussyclips.com   bad\n26                                      nuptialimages.com   bad\n27                                          andysgame.com   bad\n28                                         bezproudoff.cz   bad\n29                                     ceskarepublika.net   bad\n...                                                   ...   ...\n420434                   www.alfalima.it/transactions.php   bad\n420435         rapiseebrains.com/?a=401336&c=cpc&s=050217   bad\n420436  fuji-ncb.com.pk/js/fancybox/autolink/mailbox/m...   bad\n420437                                aadroid.net/sys.olk   bad\n420438               mit.fileserver4390.org/file/nost.bgt   bad\n420439                     cureeczemafast.org/wp-conf.gbn   bad\n420440                      glutenfreeworks.com/lftAd.vfd   bad\n420441                 dataplues.com/quincy/pony/gate.php   bad\n420442                                      60.250.76.52/   bad\n420443                                        f4321y.com/   bad\n420444                                        mykings.pw/   bad\n420445  activatemywebsetup.com/img/sunday/Excel/PO/pag...   bad\n420446             www.iemailpremium.com/read.php?f=1.gif   bad\n420447                             highpowerresources.com   bad\n420448  new.ASKGRANNYSHOP.COM/?ct=Vivaldi&amp;q=w33QMv...   bad\n420449  find.burnsmarketingandresearch.com/?br_fl=6042...   bad\n420450  gfd.DATINGUPPERCLASS.COM/?biw=Microsoft_Edge.7...   bad\n420451  rty.freebiesfortheover60s.com/?biw=Amaya.102tw...   bad\n420452          defibel.org/wp-includes/images/index.html   bad\n420453  stefanocardone.com/wp-includes/SimplePie/HTTP/...   bad\n420454          defibel.org/wp-includes/images/index.html   bad\n420455  shapingsoftware.com/2009/02/09/architectural-s...   bad\n420456  free.ulohapp.info/?br_fl=2872&amp;tuif=5539&am...   bad\n420457  free.ulohapp.info/?oq=CEh3h_PskJLFZaQWwjEKBegU...   bad\n420458                        mol.com-ho.me/cv_itworx.doc   bad\n420459                                    23.227.196.215/   bad\n420460                                 apple-checker.org/   bad\n420461                                  apple-iclods.org/   bad\n420462                                 apple-uptoday.org/   bad\n420463                                  apple-search.info   bad\n\n[420464 rows x 2 columns]", 
                        "text/html": "<div>\n<style scoped>\n    .dataframe tbody tr th:only-of-type {\n        vertical-align: middle;\n    }\n\n    .dataframe tbody tr th {\n        vertical-align: top;\n    }\n\n    .dataframe thead th {\n        text-align: right;\n    }\n</style>\n<table border=\"1\" class=\"dataframe\">\n  <thead>\n    <tr style=\"text-align: right;\">\n      <th></th>\n      <th>url</th>\n      <th>label</th>\n    </tr>\n  </thead>\n  <tbody>\n    <tr>\n      <th>0</th>\n      <td>diaryofagameaddict.com</td>\n      <td>bad</td>\n    </tr>\n    <tr>\n      <th>1</th>\n      <td>espdesign.com.au</td>\n      <td>bad</td>\n    </tr>\n    <tr>\n      <th>2</th>\n      <td>iamagameaddict.com</td>\n      <td>bad</td>\n    </tr>\n    <tr>\n      <th>3</th>\n      <td>kalantzis.net</td>\n      <td>bad</td>\n    </tr>\n    <tr>\n      <th>4</th>\n      <td>slightlyoffcenter.net</td>\n      <td>bad</td>\n    </tr>\n    <tr>\n      <th>5</th>\n      <td>toddscarwash.com</td>\n      <td>bad</td>\n    </tr>\n    <tr>\n      <th>6</th>\n      <td>tubemoviez.com</td>\n      <td>bad</td>\n    </tr>\n    <tr>\n      <th>7</th>\n      <td>ipl.hk</td>\n      <td>bad</td>\n    </tr>\n    <tr>\n      <th>8</th>\n      <td>crackspider.us/toolbar/install.php?pack=exe</td>\n      <td>bad</td>\n    </tr>\n    <tr>\n      <th>9</th>\n      <td>pos-kupang.com/</td>\n      <td>bad</td>\n    </tr>\n    <tr>\n      <th>10</th>\n      <td>rupor.info</td>\n      <td>bad</td>\n    </tr>\n    <tr>\n      <th>11</th>\n      <td>svision-online.de/mgfi/administrator/component...</td>\n      <td>bad</td>\n    </tr>\n    <tr>\n      <th>12</th>\n      <td>officeon.ch.ma/office.js?google_ad_format=728x...</td>\n      <td>bad</td>\n    </tr>\n    <tr>\n      <th>13</th>\n      <td>sn-gzzx.com</td>\n      <td>bad</td>\n    </tr>\n    <tr>\n      <th>14</th>\n      <td>sunlux.net/company/about.html</td>\n      <td>bad</td>\n    </tr>\n    <tr>\n      <th>15</th>\n      <td>outporn.com</td>\n      <td>bad</td>\n    </tr>\n    <tr>\n      <th>16</th>\n      <td>timothycopus.aimoo.com</td>\n      <td>bad</td>\n    </tr>\n    <tr>\n      <th>17</th>\n      <td>xindalawyer.com</td>\n      <td>bad</td>\n    </tr>\n    <tr>\n      <th>18</th>\n      <td>freeserials.spb.ru/key/68703.htm</td>\n      <td>bad</td>\n    </tr>\n    <tr>\n      <th>19</th>\n      <td>deletespyware-adware.com</td>\n      <td>bad</td>\n    </tr>\n    <tr>\n      <th>20</th>\n      <td>orbowlada.strefa.pl/text396.htm</td>\n      <td>bad</td>\n    </tr>\n    <tr>\n      <th>21</th>\n      <td>ruiyangcn.com</td>\n      <td>bad</td>\n    </tr>\n    <tr>\n      <th>22</th>\n      <td>zkic.com</td>\n      <td>bad</td>\n    </tr>\n    <tr>\n      <th>23</th>\n      <td>adserving.favorit-network.com/eas?camp=19320;c...</td>\n      <td>bad</td>\n    </tr>\n    <tr>\n      <th>24</th>\n      <td>cracks.vg/d1.php</td>\n      <td>bad</td>\n    </tr>\n    <tr>\n      <th>25</th>\n      <td>juicypussyclips.com</td>\n      <td>bad</td>\n    </tr>\n    <tr>\n      <th>26</th>\n      <td>nuptialimages.com</td>\n      <td>bad</td>\n    </tr>\n    <tr>\n      <th>27</th>\n      <td>andysgame.com</td>\n      <td>bad</td>\n    </tr>\n    <tr>\n      <th>28</th>\n      <td>bezproudoff.cz</td>\n      <td>bad</td>\n    </tr>\n    <tr>\n      <th>29</th>\n      <td>ceskarepublika.net</td>\n      <td>bad</td>\n    </tr>\n    <tr>\n      <th>...</th>\n      <td>...</td>\n      <td>...</td>\n    </tr>\n    <tr>\n      <th>420434</th>\n      <td>www.alfalima.it/transactions.php</td>\n      <td>bad</td>\n    </tr>\n    <tr>\n      <th>420435</th>\n      <td>rapiseebrains.com/?a=401336&amp;c=cpc&amp;s=050217</td>\n      <td>bad</td>\n    </tr>\n    <tr>\n      <th>420436</th>\n      <td>fuji-ncb.com.pk/js/fancybox/autolink/mailbox/m...</td>\n      <td>bad</td>\n    </tr>\n    <tr>\n      <th>420437</th>\n      <td>aadroid.net/sys.olk</td>\n      <td>bad</td>\n    </tr>\n    <tr>\n      <th>420438</th>\n      <td>mit.fileserver4390.org/file/nost.bgt</td>\n      <td>bad</td>\n    </tr>\n    <tr>\n      <th>420439</th>\n      <td>cureeczemafast.org/wp-conf.gbn</td>\n      <td>bad</td>\n    </tr>\n    <tr>\n      <th>420440</th>\n      <td>glutenfreeworks.com/lftAd.vfd</td>\n      <td>bad</td>\n    </tr>\n    <tr>\n      <th>420441</th>\n      <td>dataplues.com/quincy/pony/gate.php</td>\n      <td>bad</td>\n    </tr>\n    <tr>\n      <th>420442</th>\n      <td>60.250.76.52/</td>\n      <td>bad</td>\n    </tr>\n    <tr>\n      <th>420443</th>\n      <td>f4321y.com/</td>\n      <td>bad</td>\n    </tr>\n    <tr>\n      <th>420444</th>\n      <td>mykings.pw/</td>\n      <td>bad</td>\n    </tr>\n    <tr>\n      <th>420445</th>\n      <td>activatemywebsetup.com/img/sunday/Excel/PO/pag...</td>\n      <td>bad</td>\n    </tr>\n    <tr>\n      <th>420446</th>\n      <td>www.iemailpremium.com/read.php?f=1.gif</td>\n      <td>bad</td>\n    </tr>\n    <tr>\n      <th>420447</th>\n      <td>highpowerresources.com</td>\n      <td>bad</td>\n    </tr>\n    <tr>\n      <th>420448</th>\n      <td>new.ASKGRANNYSHOP.COM/?ct=Vivaldi&amp;amp;q=w33QMv...</td>\n      <td>bad</td>\n    </tr>\n    <tr>\n      <th>420449</th>\n      <td>find.burnsmarketingandresearch.com/?br_fl=6042...</td>\n      <td>bad</td>\n    </tr>\n    <tr>\n      <th>420450</th>\n      <td>gfd.DATINGUPPERCLASS.COM/?biw=Microsoft_Edge.7...</td>\n      <td>bad</td>\n    </tr>\n    <tr>\n      <th>420451</th>\n      <td>rty.freebiesfortheover60s.com/?biw=Amaya.102tw...</td>\n      <td>bad</td>\n    </tr>\n    <tr>\n      <th>420452</th>\n      <td>defibel.org/wp-includes/images/index.html</td>\n      <td>bad</td>\n    </tr>\n    <tr>\n      <th>420453</th>\n      <td>stefanocardone.com/wp-includes/SimplePie/HTTP/...</td>\n      <td>bad</td>\n    </tr>\n    <tr>\n      <th>420454</th>\n      <td>defibel.org/wp-includes/images/index.html</td>\n      <td>bad</td>\n    </tr>\n    <tr>\n      <th>420455</th>\n      <td>shapingsoftware.com/2009/02/09/architectural-s...</td>\n      <td>bad</td>\n    </tr>\n    <tr>\n      <th>420456</th>\n      <td>free.ulohapp.info/?br_fl=2872&amp;amp;tuif=5539&amp;am...</td>\n      <td>bad</td>\n    </tr>\n    <tr>\n      <th>420457</th>\n      <td>free.ulohapp.info/?oq=CEh3h_PskJLFZaQWwjEKBegU...</td>\n      <td>bad</td>\n    </tr>\n    <tr>\n      <th>420458</th>\n      <td>mol.com-ho.me/cv_itworx.doc</td>\n      <td>bad</td>\n    </tr>\n    <tr>\n      <th>420459</th>\n      <td>23.227.196.215/</td>\n      <td>bad</td>\n    </tr>\n    <tr>\n      <th>420460</th>\n      <td>apple-checker.org/</td>\n      <td>bad</td>\n    </tr>\n    <tr>\n      <th>420461</th>\n      <td>apple-iclods.org/</td>\n      <td>bad</td>\n    </tr>\n    <tr>\n      <th>420462</th>\n      <td>apple-uptoday.org/</td>\n      <td>bad</td>\n    </tr>\n    <tr>\n      <th>420463</th>\n      <td>apple-search.info</td>\n      <td>bad</td>\n    </tr>\n  </tbody>\n</table>\n<p>420464 rows \u00d7 2 columns</p>\n</div>"
                    }, 
                    "metadata": {}
                }
            ], 
            "execution_count": 39
        }, 
        {
            "source": "#transform ourtext features vectors\n#create a tokenizer\n#split, remove repetation", 
            "cell_type": "code", 
            "metadata": {}, 
            "outputs": [], 
            "execution_count": 40
        }, 
        {
            "source": "#Start making tokens", 
            "cell_type": "code", 
            "metadata": {}, 
            "outputs": [], 
            "execution_count": 41
        }, 
        {
            "source": "def makeTokens(f):\n    tkns_BySlash = str(f.encode('utf-8')).split('/')#make token\n    total_Tokens = []\n    for i in tkns_BySlash:\n        tokens = str(i).split('-')#Split tokens \n        tkns_ByDot = []\n        for j in range(0,len(tokens)):\n            temp_Tokens = str(tokens[j]).split('.')\n            tkns_ByDot = tkns_ByDot + temp_Tokens\n            total_Tokens = total_Tokens + Tokens + tkns_ByDot\n            total_Tokens = list(set(total_Tokens))#remove redundant tokens\n            if 'com' in total_Tokens:\n                total_Tokens.remove('com') #remove.com\n                return total_Tokens\n        ", 
            "cell_type": "code", 
            "metadata": {}, 
            "outputs": [], 
            "execution_count": 42
        }, 
        {
            "source": "#labels\ny = urls_data[\"label\"]", 
            "cell_type": "code", 
            "metadata": {}, 
            "outputs": [], 
            "execution_count": 43
        }, 
        {
            "source": "#Features\nurl_list = urls_data[\"url\"]", 
            "cell_type": "code", 
            "metadata": {}, 
            "outputs": [], 
            "execution_count": 44
        }, 
        {
            "source": "url_list", 
            "cell_type": "code", 
            "metadata": {}, 
            "outputs": [
                {
                    "execution_count": 50, 
                    "output_type": "execute_result", 
                    "data": {
                        "text/plain": "0                                    diaryofagameaddict.com\n1                                          espdesign.com.au\n2                                        iamagameaddict.com\n3                                             kalantzis.net\n4                                     slightlyoffcenter.net\n5                                          toddscarwash.com\n6                                            tubemoviez.com\n7                                                    ipl.hk\n8               crackspider.us/toolbar/install.php?pack=exe\n9                                           pos-kupang.com/\n10                                               rupor.info\n11        svision-online.de/mgfi/administrator/component...\n12        officeon.ch.ma/office.js?google_ad_format=728x...\n13                                              sn-gzzx.com\n14                            sunlux.net/company/about.html\n15                                              outporn.com\n16                                   timothycopus.aimoo.com\n17                                          xindalawyer.com\n18                         freeserials.spb.ru/key/68703.htm\n19                                 deletespyware-adware.com\n20                          orbowlada.strefa.pl/text396.htm\n21                                            ruiyangcn.com\n22                                                 zkic.com\n23        adserving.favorit-network.com/eas?camp=19320;c...\n24                                         cracks.vg/d1.php\n25                                      juicypussyclips.com\n26                                        nuptialimages.com\n27                                            andysgame.com\n28                                           bezproudoff.cz\n29                                       ceskarepublika.net\n                                ...                        \n420434                     www.alfalima.it/transactions.php\n420435           rapiseebrains.com/?a=401336&c=cpc&s=050217\n420436    fuji-ncb.com.pk/js/fancybox/autolink/mailbox/m...\n420437                                  aadroid.net/sys.olk\n420438                 mit.fileserver4390.org/file/nost.bgt\n420439                       cureeczemafast.org/wp-conf.gbn\n420440                        glutenfreeworks.com/lftAd.vfd\n420441                   dataplues.com/quincy/pony/gate.php\n420442                                        60.250.76.52/\n420443                                          f4321y.com/\n420444                                          mykings.pw/\n420445    activatemywebsetup.com/img/sunday/Excel/PO/pag...\n420446               www.iemailpremium.com/read.php?f=1.gif\n420447                               highpowerresources.com\n420448    new.ASKGRANNYSHOP.COM/?ct=Vivaldi&amp;q=w33QMv...\n420449    find.burnsmarketingandresearch.com/?br_fl=6042...\n420450    gfd.DATINGUPPERCLASS.COM/?biw=Microsoft_Edge.7...\n420451    rty.freebiesfortheover60s.com/?biw=Amaya.102tw...\n420452            defibel.org/wp-includes/images/index.html\n420453    stefanocardone.com/wp-includes/SimplePie/HTTP/...\n420454            defibel.org/wp-includes/images/index.html\n420455    shapingsoftware.com/2009/02/09/architectural-s...\n420456    free.ulohapp.info/?br_fl=2872&amp;tuif=5539&am...\n420457    free.ulohapp.info/?oq=CEh3h_PskJLFZaQWwjEKBegU...\n420458                          mol.com-ho.me/cv_itworx.doc\n420459                                      23.227.196.215/\n420460                                   apple-checker.org/\n420461                                    apple-iclods.org/\n420462                                   apple-uptoday.org/\n420463                                    apple-search.info\nName: url, Length: 420464, dtype: object"
                    }, 
                    "metadata": {}
                }
            ], 
            "execution_count": 50
        }, 
        {
            "source": "#Using Default Tokenizer\n#vectorizer = Tfidvectorizer()\n#Term Frequency and Inverse Document Frequency\n#use custom Tokenizer\n\n\n# Using Tokenizer\nvectorizer = TfidfVectorizer()\n\n# Store vectors into X variable as Our XFeatures\nX = vectorizer.fit_transform(url_list)", 
            "cell_type": "code", 
            "metadata": {}, 
            "outputs": [], 
            "execution_count": 45
        }, 
        {
            "source": "", 
            "cell_type": "code", 
            "metadata": {}, 
            "outputs": [], 
            "execution_count": null
        }, 
        {
            "source": "# Split into training and testing dataset 80:20 ratio\nX_train, X_test, y_train, y_test = train_test_split(X, y, test_size=0.2, random_state=42)", 
            "cell_type": "code", 
            "metadata": {}, 
            "outputs": [], 
            "execution_count": 46
        }, 
        {
            "source": "\n# Model Building using logistic regression\nlogit = LogisticRegression()\nlogit.fit(X_train, y_train)", 
            "cell_type": "code", 
            "metadata": {}, 
            "outputs": [
                {
                    "execution_count": 47, 
                    "output_type": "execute_result", 
                    "data": {
                        "text/plain": "LogisticRegression(C=1.0, class_weight=None, dual=False, fit_intercept=True,\n          intercept_scaling=1, max_iter=100, multi_class='ovr', n_jobs=1,\n          penalty='l2', random_state=None, solver='liblinear', tol=0.0001,\n          verbose=0, warm_start=False)"
                    }, 
                    "metadata": {}
                }
            ], 
            "execution_count": 47
        }, 
        {
            "source": "print(\"Accuracy\",logit.score(X_test, y_test)) #Model accuracy", 
            "cell_type": "code", 
            "metadata": {}, 
            "outputs": [
                {
                    "output_type": "stream", 
                    "name": "stdout", 
                    "text": "Accuracy 0.9646343928745555\n"
                }
            ], 
            "execution_count": 48
        }, 
        {
            "source": "#predicting our model\nX_predict = [\"diaryofagameaddict.com\",\"espdesign.com.au\",\"iamagameaddict.com\",\"kalantzis.net\",\"slightlyoffcenter.net\",\"toddscarwash.com\",\"tubemoviez.com\",\"ipl.hk\"]\n", 
            "cell_type": "code", 
            "metadata": {}, 
            "outputs": [], 
            "execution_count": 51
        }, 
        {
            "source": "X_predict = vectorizer.transform(X_predict)\nNew_predict = logit.predict(X_predict)", 
            "cell_type": "code", 
            "metadata": {}, 
            "outputs": [], 
            "execution_count": 52
        }, 
        {
            "source": "print(New_predict)", 
            "cell_type": "code", 
            "metadata": {}, 
            "outputs": [
                {
                    "output_type": "stream", 
                    "name": "stdout", 
                    "text": "['good' 'good' 'good' 'good' 'good' 'good' 'good' 'bad']\n"
                }
            ], 
            "execution_count": 53
        }, 
        {
            "source": "#lets try another link\nX_predict = [\"google.com\"]\nX_predict = vectorizer.transform(X_predict)\nNew_predict = logit.predict(X_predict)", 
            "cell_type": "code", 
            "metadata": {}, 
            "outputs": [], 
            "execution_count": 54
        }, 
        {
            "source": "print(New_predict)", 
            "cell_type": "code", 
            "metadata": {}, 
            "outputs": [
                {
                    "output_type": "stream", 
                    "name": "stdout", 
                    "text": "['good']\n"
                }
            ], 
            "execution_count": 55
        }, 
        {
            "source": "#lets try another link\nX_predict = [\"darkweb.ucoz.com/\"]\nX_predict = vectorizer.transform(X_predict)\nNew_predict = logit.predict(X_predict)", 
            "cell_type": "code", 
            "metadata": {}, 
            "outputs": [], 
            "execution_count": 56
        }, 
        {
            "source": "print(New_predict)", 
            "cell_type": "code", 
            "metadata": {}, 
            "outputs": [
                {
                    "output_type": "stream", 
                    "name": "stdout", 
                    "text": "['good']\n"
                }
            ], 
            "execution_count": 57
        }, 
        {
            "source": "#Remember you can use this model to build a software application using flask framework in python\n", 
            "cell_type": "code", 
            "metadata": {}, 
            "outputs": [], 
            "execution_count": null
        }
    ], 
    "metadata": {
        "kernelspec": {
            "display_name": "Python 3.5", 
            "name": "python3", 
            "language": "python"
        }, 
        "language_info": {
            "mimetype": "text/x-python", 
            "nbconvert_exporter": "python", 
            "version": "3.5.5", 
            "name": "python", 
            "pygments_lexer": "ipython3", 
            "file_extension": ".py", 
            "codemirror_mode": {
                "version": 3, 
                "name": "ipython"
            }
        }
    }, 
    "nbformat": 4
}